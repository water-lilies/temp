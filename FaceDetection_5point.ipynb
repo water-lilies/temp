{
 "cells": [
  {
   "cell_type": "code",
   "execution_count": 1,
   "metadata": {},
   "outputs": [],
   "source": [
    "from imutils import face_utils, paths\n",
    "import numpy as np\n",
    "import imutils\n",
    "import dlib\n",
    "import cv2\n",
    "import matplotlib.pyplot as plt\n",
    "import face_recognition\n",
    "from PIL import Image\n",
    "\n",
    "def imshow(tit, image) :\n",
    "    plt.title(tit)    \n",
    "    if len(image.shape) == 3 :\n",
    "        plt.imshow(cv2.cvtColor(image, cv2.COLOR_BGR2RGB))\n",
    "    else :\n",
    "        plt.imshow(image, cmap=\"gray\")\n",
    "    plt.show()"
   ]
  },
  {
   "cell_type": "code",
   "execution_count": 2,
   "metadata": {},
   "outputs": [],
   "source": [
    "# http://dlib.net/files/shape_predictor_68_face_landmarks.dat.bz2\n",
    "predictor = dlib.shape_predictor(\"shape_predictor_68_face_landmarks.dat\")\n",
    "detector = dlib.get_frontal_face_detector()"
   ]
  },
  {
   "cell_type": "code",
   "execution_count": 3,
   "metadata": {},
   "outputs": [],
   "source": [
    "img = Image.open(\"./imgs/no_makeup/xfsy_0068.png\") \n",
    "\n",
    "frame = cv2.imread(\"./imgs/no_makeup/xfsy_0068.png\")\n",
    "gray = cv2.cvtColor(frame, cv2.COLOR_BGR2GRAY)\n",
    "rects = detector(gray, 0)  \n",
    "# print(\"Number of faces detected: {}\".format(len(rects)))\n",
    "# for r in rects :\n",
    "#     print(r)"
   ]
  },
  {
   "cell_type": "code",
   "execution_count": 4,
   "metadata": {},
   "outputs": [],
   "source": [
    "for k, d in enumerate(rects):\n",
    "#         print(\"Detection {}: Left: {} Top: {} Right: {} Bottom: {}\".format(\n",
    "#             k, d.left(), d.top(), d.right(), d.bottom()))\n",
    "        shape = predictor(gray, d)\n",
    "        shape = face_utils.shape_to_np(shape) #객체 내에서 필요한 좌표 정보만 넘파이 객체로 뽑음\n",
    "        for (x, y) in shape:\n",
    "          cv2.circle(frame, (x, y), 2, (0, 255, 0), -1)\n",
    "\n",
    "# imshow(\"\", frame)"
   ]
  },
  {
   "cell_type": "code",
   "execution_count": 5,
   "metadata": {},
   "outputs": [],
   "source": [
    "point1 = ((shape[58] + shape[9])*0.5).round()  # point1 턱 (밑입술 하단 - 턱끝 )\n",
    "point2 = ((shape[3] + shape[49])*0.5).round()  # point2 왼쪽 뺨 (왼쪽 외곽선 - 왼쪽 입술 끝점)\n",
    "point3 = ((shape[15] + shape[55])*0.5).round() # point3 오른쪽 뺨 (오른쪽 외곽선 - 오른쪽 입술 끝점)\n",
    "point4 = shape[31].astype('float64')           # point4 코\n",
    "point5 = ((shape[22] + shape[23])*0.5).round() # point5 눈썹 사이"
   ]
  },
  {
   "cell_type": "code",
   "execution_count": 6,
   "metadata": {
    "scrolled": true
   },
   "outputs": [],
   "source": [
    "# RGB 모드로 변경 \n",
    "rgb_img = img.convert('RGB') \n",
    "\n",
    "# 지정한 좌표의 색상을 r,g,b 변수에 넣음 \n",
    "r1, g1, b1 = rgb_img.getpixel((point1[0], point1[1]))\n",
    "r2, g2, b2 = rgb_img.getpixel((point2[0], point2[1])) \n",
    "r3, g3, b3 = rgb_img.getpixel((point3[0], point3[1])) \n",
    "r4, g4, b4 = rgb_img.getpixel((point4[0], point4[1])) \n",
    "r5, g5, b5 = rgb_img.getpixel((point5[0], point5[1])) "
   ]
  },
  {
   "cell_type": "code",
   "execution_count": 7,
   "metadata": {},
   "outputs": [
    {
     "data": {
      "image/png": "[encoded data removed]",
      "text/plain": [
       "<Figure size 432x288 with 1 Axes>"
      ]
     },
     "metadata": {
      "needs_background": "light"
     },
     "output_type": "display_data"
    }
   ],
   "source": [
    "# point RGB값 보여주기\n",
    "\n",
    "def plot_colors(hist, centroids):\n",
    "    bar = np.zeros((50, 300, 3), dtype = \"uint8\")\n",
    "    startX = 0\n",
    "\n",
    "    for (percent, color) in zip(hist, centroids):\n",
    "        endX = startX + (percent * 300)\n",
    "        cv2.rectangle(bar, (int(startX), 0), (int(endX), 50),\n",
    "            color.astype(\"uint8\").tolist(), -1)\n",
    "        startX = endX\n",
    "    return bar\n",
    "\n",
    "\n",
    "hist = np.array([0.2, 0.2, 0.2, 0.2, 0.2])\n",
    "temp = np.array([[r1,g1,b1],[r2,g2,b2],[r3,g3,b3],[r4,g4,b4],[r5,g5,b5]])\n",
    "\n",
    "\n",
    "\n",
    "bar = plot_colors(hist, temp)\n",
    "\n",
    "plt.figure()\n",
    "plt.axis(\"off\")\n",
    "plt.imshow(bar)\n",
    "plt.show()"
   ]
  },
  {
   "cell_type": "code",
   "execution_count": 8,
   "metadata": {},
   "outputs": [],
   "source": [
    "import colorsys\n",
    "\n",
    "# RGB -> HSV\n",
    "def revised_rgb_to_hsv(r, g, b):\n",
    "    (h, s, v) = colorsys.rgb_to_hsv(r/255, g/255, b/255)\n",
    "    h *= 360\n",
    "    s *= 100\n",
    "    v *= 100\n",
    "    return round(h), round(s), round(v)\n",
    "\n",
    "h1, s1, v1 = revised_rgb_to_hsv(r1, g1, b1)\n",
    "h2, s2, v2 = revised_rgb_to_hsv(r2, g2, b2)\n",
    "h3, s3, v3 = revised_rgb_to_hsv(r3, g3, b3)\n",
    "h4, s4, v4 = revised_rgb_to_hsv(r4, g4, b4)\n",
    "h5, s5, v5 = revised_rgb_to_hsv(r5, g5, b5)"
   ]
  },
  {
   "cell_type": "code",
   "execution_count": null,
   "metadata": {},
   "outputs": [],
   "source": []
  }
 ],
 "metadata": {
  "kernelspec": {
   "display_name": "Python 3",
   "language": "python",
   "name": "python3"
  },
  "language_info": {
   "codemirror_mode": {
    "name": "ipython",
    "version": 3
   },
   "file_extension": ".py",
   "mimetype": "text/x-python",
   "name": "python",
   "nbconvert_exporter": "python",
   "pygments_lexer": "ipython3",
   "version": "3.6.10"
  }
 },
 "nbformat": 4,
 "nbformat_minor": 4
}
