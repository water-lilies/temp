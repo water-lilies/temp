{
 "cells": [
  {
   "cell_type": "code",
   "execution_count": 1,
   "metadata": {},
   "outputs": [],
   "source": [
    "import numpy as np\n",
    "import pandas as pd\n",
    "\n",
    "import matplotlib.pyplot as plt\n",
    "import seaborn as sns\n",
    "\n",
    "from sklearn import datasets"
   ]
  },
  {
   "cell_type": "code",
   "execution_count": 9,
   "metadata": {
    "scrolled": true
   },
   "outputs": [
    {
     "data": {
      "text/html": [
       "<div>\n",
       "<style scoped>\n",
       "    .dataframe tbody tr th:only-of-type {\n",
       "        vertical-align: middle;\n",
       "    }\n",
       "\n",
       "    .dataframe tbody tr th {\n",
       "        vertical-align: top;\n",
       "    }\n",
       "\n",
       "    .dataframe thead th {\n",
       "        text-align: right;\n",
       "    }\n",
       "</style>\n",
       "<table border=\"1\" class=\"dataframe\">\n",
       "  <thead>\n",
       "    <tr style=\"text-align: right;\">\n",
       "      <th></th>\n",
       "      <th>Nor_H</th>\n",
       "      <th>Nor_S</th>\n",
       "      <th>Nor_V</th>\n",
       "      <th>Nor_R</th>\n",
       "      <th>Nor_G</th>\n",
       "      <th>Nor_B</th>\n",
       "      <th>Nor_l</th>\n",
       "      <th>Nor_a</th>\n",
       "      <th>Nor_b</th>\n",
       "      <th>계절</th>\n",
       "      <th>봄</th>\n",
       "      <th>여름</th>\n",
       "      <th>가을</th>\n",
       "      <th>겨울</th>\n",
       "      <th>쿨웜</th>\n",
       "      <th>Unnamed: 16</th>\n",
       "    </tr>\n",
       "    <tr>\n",
       "      <th>순번</th>\n",
       "      <th></th>\n",
       "      <th></th>\n",
       "      <th></th>\n",
       "      <th></th>\n",
       "      <th></th>\n",
       "      <th></th>\n",
       "      <th></th>\n",
       "      <th></th>\n",
       "      <th></th>\n",
       "      <th></th>\n",
       "      <th></th>\n",
       "      <th></th>\n",
       "      <th></th>\n",
       "      <th></th>\n",
       "      <th></th>\n",
       "      <th></th>\n",
       "    </tr>\n",
       "  </thead>\n",
       "  <tbody>\n",
       "    <tr>\n",
       "      <th>1</th>\n",
       "      <td>0.016760</td>\n",
       "      <td>0.101010</td>\n",
       "      <td>0.927536</td>\n",
       "      <td>0.936170</td>\n",
       "      <td>0.842697</td>\n",
       "      <td>0.864253</td>\n",
       "      <td>0.885714</td>\n",
       "      <td>0.454545</td>\n",
       "      <td>0.433824</td>\n",
       "      <td>1</td>\n",
       "      <td>1</td>\n",
       "      <td>0</td>\n",
       "      <td>0</td>\n",
       "      <td>0</td>\n",
       "      <td>1</td>\n",
       "      <td>NaN</td>\n",
       "    </tr>\n",
       "    <tr>\n",
       "      <th>2</th>\n",
       "      <td>0.986034</td>\n",
       "      <td>0.494949</td>\n",
       "      <td>0.942029</td>\n",
       "      <td>0.952128</td>\n",
       "      <td>0.359551</td>\n",
       "      <td>0.538462</td>\n",
       "      <td>0.585714</td>\n",
       "      <td>0.838384</td>\n",
       "      <td>0.514706</td>\n",
       "      <td>1</td>\n",
       "      <td>1</td>\n",
       "      <td>0</td>\n",
       "      <td>0</td>\n",
       "      <td>0</td>\n",
       "      <td>1</td>\n",
       "      <td>NaN</td>\n",
       "    </tr>\n",
       "    <tr>\n",
       "      <th>3</th>\n",
       "      <td>0.027933</td>\n",
       "      <td>0.646465</td>\n",
       "      <td>0.942029</td>\n",
       "      <td>0.952128</td>\n",
       "      <td>0.331461</td>\n",
       "      <td>0.343891</td>\n",
       "      <td>0.571429</td>\n",
       "      <td>0.838384</td>\n",
       "      <td>0.683824</td>\n",
       "      <td>1</td>\n",
       "      <td>1</td>\n",
       "      <td>0</td>\n",
       "      <td>0</td>\n",
       "      <td>0</td>\n",
       "      <td>1</td>\n",
       "      <td>NaN</td>\n",
       "    </tr>\n",
       "    <tr>\n",
       "      <th>4</th>\n",
       "      <td>0.000000</td>\n",
       "      <td>0.646465</td>\n",
       "      <td>0.898551</td>\n",
       "      <td>0.909574</td>\n",
       "      <td>0.179775</td>\n",
       "      <td>0.330317</td>\n",
       "      <td>0.485714</td>\n",
       "      <td>0.929293</td>\n",
       "      <td>0.639706</td>\n",
       "      <td>1</td>\n",
       "      <td>1</td>\n",
       "      <td>0</td>\n",
       "      <td>0</td>\n",
       "      <td>0</td>\n",
       "      <td>1</td>\n",
       "      <td>NaN</td>\n",
       "    </tr>\n",
       "    <tr>\n",
       "      <th>5</th>\n",
       "      <td>0.097765</td>\n",
       "      <td>0.787879</td>\n",
       "      <td>0.913043</td>\n",
       "      <td>0.914894</td>\n",
       "      <td>0.556180</td>\n",
       "      <td>0.199095</td>\n",
       "      <td>0.671429</td>\n",
       "      <td>0.595960</td>\n",
       "      <td>0.845588</td>\n",
       "      <td>1</td>\n",
       "      <td>1</td>\n",
       "      <td>0</td>\n",
       "      <td>0</td>\n",
       "      <td>0</td>\n",
       "      <td>1</td>\n",
       "      <td>NaN</td>\n",
       "    </tr>\n",
       "  </tbody>\n",
       "</table>\n",
       "</div>"
      ],
      "text/plain": [
       "       Nor_H     Nor_S     Nor_V     Nor_R     Nor_G     Nor_B     Nor_l  \\\n",
       "순번                                                                         \n",
       "1   0.016760  0.101010  0.927536  0.936170  0.842697  0.864253  0.885714   \n",
       "2   0.986034  0.494949  0.942029  0.952128  0.359551  0.538462  0.585714   \n",
       "3   0.027933  0.646465  0.942029  0.952128  0.331461  0.343891  0.571429   \n",
       "4   0.000000  0.646465  0.898551  0.909574  0.179775  0.330317  0.485714   \n",
       "5   0.097765  0.787879  0.913043  0.914894  0.556180  0.199095  0.671429   \n",
       "\n",
       "       Nor_a     Nor_b  계절  봄  여름  가을  겨울  쿨웜 Unnamed: 16  \n",
       "순번                                                         \n",
       "1   0.454545  0.433824   1  1   0   0   0   1         NaN  \n",
       "2   0.838384  0.514706   1  1   0   0   0   1         NaN  \n",
       "3   0.838384  0.683824   1  1   0   0   0   1         NaN  \n",
       "4   0.929293  0.639706   1  1   0   0   0   1         NaN  \n",
       "5   0.595960  0.845588   1  1   0   0   0   1         NaN  "
      ]
     },
     "execution_count": 9,
     "metadata": {},
     "output_type": "execute_result"
    }
   ],
   "source": [
    "data = pd.read_excel('data.xlsx', index_col='순번')\n",
    "data.head()"
   ]
  },
  {
   "cell_type": "code",
   "execution_count": 25,
   "metadata": {},
   "outputs": [
    {
     "data": {
      "image/png": "[encoded data removed]",
      "text/plain": [
       "<Figure size 432x288 with 1 Axes>"
      ]
     },
     "metadata": {
      "needs_background": "light"
     },
     "output_type": "display_data"
    }
   ],
   "source": [
    "plt.plot('계절',  # x\n",
    "         'Nor_H',  # y\n",
    "         data=data, \n",
    "         linestyle='none', \n",
    "         marker='o', \n",
    "         markersize=10,\n",
    "         color='blue', \n",
    "         alpha=0.5)\n",
    "\n",
    "plt.title('Scatter Plot', fontsize=20)\n",
    "\n",
    "plt.xlabel('season', fontsize=14)\n",
    "\n",
    "plt.ylabel('Nor_H', fontsize=14)\n",
    "\n",
    "plt.show()"
   ]
  },
  {
   "cell_type": "code",
   "execution_count": 24,
   "metadata": {
    "scrolled": false
   },
   "outputs": [
    {
     "data": {
      "image/png": "[encoded data removed]",
      "text/plain": [
       "<Figure size 432x288 with 1 Axes>"
      ]
     },
     "metadata": {
      "needs_background": "light"
     },
     "output_type": "display_data"
    }
   ],
   "source": [
    "sns.regplot(x=data['계절'], \n",
    "           y=data['Nor_H'], \n",
    "           fit_reg=False) # no regression line\n",
    "\n",
    "plt.title('Scatter Plot', fontsize=20)\n",
    "\n",
    "plt.xlabel('season', fontsize=14)\n",
    "\n",
    "plt.ylabel('Nor_H', fontsize=14)\n",
    "\n",
    "plt.show()\n"
   ]
  },
  {
   "cell_type": "markdown",
   "metadata": {},
   "source": [
    "### 로지스틱회귀분석"
   ]
  },
  {
   "cell_type": "code",
   "execution_count": 3,
   "metadata": {},
   "outputs": [],
   "source": [
    "from sklearn.linear_model import LogisticRegression\n",
    "from sklearn.model_selection import train_test_split"
   ]
  },
  {
   "cell_type": "code",
   "execution_count": 43,
   "metadata": {},
   "outputs": [
    {
     "name": "stdout",
     "output_type": "stream",
     "text": [
      "0.7222222222222222\n"
     ]
    }
   ],
   "source": [
    "x_data = data[['Nor_H', 'Nor_S', 'Nor_V']]\n",
    "y_data = data['쿨웜']\n",
    "\n",
    "x_train, x_test, y_train, y_test = train_test_split(x_data, y_data, test_size=0.1, random_state=777)\n",
    "\n",
    "model = LogisticRegression()\n",
    "\n",
    "model.fit(x_train, y_train)\n",
    "\n",
    "\n",
    "print(model.score(x_test, y_test))"
   ]
  },
  {
   "cell_type": "code",
   "execution_count": 67,
   "metadata": {},
   "outputs": [
    {
     "name": "stdout",
     "output_type": "stream",
     "text": [
      "0.6759259259259259\n"
     ]
    }
   ],
   "source": [
    "x_data = data[['Nor_H', 'Nor_S', 'Nor_V','Nor_R', 'Nor_G', 'Nor_B','Nor_l', 'Nor_a', 'Nor_b']]\n",
    "\n",
    "y_data = data['가을']\n",
    "\n",
    "x_train, x_test, y_train, y_test = train_test_split(x_data, y_data, test_size=0.3, random_state=777)\n",
    "\n",
    "model = LogisticRegression()\n",
    "model.fit(x_train, y_train)\n",
    "\n",
    "print(model.score(x_test, y_test))"
   ]
  },
  {
   "cell_type": "code",
   "execution_count": 57,
   "metadata": {},
   "outputs": [
    {
     "name": "stdout",
     "output_type": "stream",
     "text": [
      "0.6759259259259259\n"
     ]
    }
   ],
   "source": [
    "x_data = data[['Nor_l', 'Nor_a', 'Nor_b']]\n",
    "y_data = data['겨울']\n",
    "\n",
    "x_train, x_test, y_train, y_test = train_test_split(x_data, y_data, test_size=0.3, random_state=777)\n",
    "\n",
    "model = LogisticRegression()\n",
    "model.fit(x_train, y_train)\n",
    "\n",
    "print(model.score(x_test, y_test))"
   ]
  },
  {
   "cell_type": "code",
   "execution_count": null,
   "metadata": {},
   "outputs": [],
   "source": [
    "x_data = data[['Nor_R', 'Nor_G', 'Nor_B']]\n",
    "y_data = data['겨울']\n",
    "\n",
    "x_train, x_test, y_train, y_test = train_test_split(x_data, y_data, test_size=0.3, random_state=777)\n",
    "\n",
    "model = LogisticRegression()\n",
    "model.fit(x_train, y_train)\n",
    "\n",
    "print(model.score(x_test, y_test))"
   ]
  },
  {
   "cell_type": "code",
   "execution_count": 5,
   "metadata": {},
   "outputs": [
    {
     "name": "stdout",
     "output_type": "stream",
     "text": [
      "Optimization terminated successfully.\n",
      "         Current function value: 0.584660\n",
      "         Iterations 5\n"
     ]
    },
    {
     "data": {
      "text/html": [
       "<table class=\"simpletable\">\n",
       "<caption>Logit Regression Results</caption>\n",
       "<tr>\n",
       "  <th>Dep. Variable:</th>          <td>쿨웜</td>        <th>  No. Observations:  </th>  <td>   719</td>  \n",
       "</tr>\n",
       "<tr>\n",
       "  <th>Model:</th>                 <td>Logit</td>      <th>  Df Residuals:      </th>  <td>   715</td>  \n",
       "</tr>\n",
       "<tr>\n",
       "  <th>Method:</th>                 <td>MLE</td>       <th>  Df Model:          </th>  <td>     3</td>  \n",
       "</tr>\n",
       "<tr>\n",
       "  <th>Date:</th>            <td>Fri, 29 May 2020</td> <th>  Pseudo R-squ.:     </th>  <td>0.1565</td>  \n",
       "</tr>\n",
       "<tr>\n",
       "  <th>Time:</th>                <td>09:25:44</td>     <th>  Log-Likelihood:    </th> <td> -420.37</td> \n",
       "</tr>\n",
       "<tr>\n",
       "  <th>converged:</th>             <td>True</td>       <th>  LL-Null:           </th> <td> -498.37</td> \n",
       "</tr>\n",
       "<tr>\n",
       "  <th>Covariance Type:</th>     <td>nonrobust</td>    <th>  LLR p-value:       </th> <td>1.343e-33</td>\n",
       "</tr>\n",
       "</table>\n",
       "<table class=\"simpletable\">\n",
       "<tr>\n",
       "      <td></td>         <th>coef</th>     <th>std err</th>      <th>z</th>      <th>P>|z|</th>  <th>[0.025</th>    <th>0.975]</th>  \n",
       "</tr>\n",
       "<tr>\n",
       "  <th>Intercept</th> <td>    0.0580</td> <td>    0.253</td> <td>    0.229</td> <td> 0.819</td> <td>   -0.438</td> <td>    0.554</td>\n",
       "</tr>\n",
       "<tr>\n",
       "  <th>Nor_H</th>     <td>   -2.3843</td> <td>    0.248</td> <td>   -9.598</td> <td> 0.000</td> <td>   -2.871</td> <td>   -1.897</td>\n",
       "</tr>\n",
       "<tr>\n",
       "  <th>Nor_S</th>     <td>    2.2869</td> <td>    0.328</td> <td>    6.971</td> <td> 0.000</td> <td>    1.644</td> <td>    2.930</td>\n",
       "</tr>\n",
       "<tr>\n",
       "  <th>Nor_V</th>     <td>    0.1190</td> <td>    0.237</td> <td>    0.503</td> <td> 0.615</td> <td>   -0.345</td> <td>    0.583</td>\n",
       "</tr>\n",
       "</table>"
      ],
      "text/plain": [
       "<class 'statsmodels.iolib.summary.Summary'>\n",
       "\"\"\"\n",
       "                           Logit Regression Results                           \n",
       "==============================================================================\n",
       "Dep. Variable:                     쿨웜   No. Observations:                  719\n",
       "Model:                          Logit   Df Residuals:                      715\n",
       "Method:                           MLE   Df Model:                            3\n",
       "Date:                Fri, 29 May 2020   Pseudo R-squ.:                  0.1565\n",
       "Time:                        09:25:44   Log-Likelihood:                -420.37\n",
       "converged:                       True   LL-Null:                       -498.37\n",
       "Covariance Type:            nonrobust   LLR p-value:                 1.343e-33\n",
       "==============================================================================\n",
       "                 coef    std err          z      P>|z|      [0.025      0.975]\n",
       "------------------------------------------------------------------------------\n",
       "Intercept      0.0580      0.253      0.229      0.819      -0.438       0.554\n",
       "Nor_H         -2.3843      0.248     -9.598      0.000      -2.871      -1.897\n",
       "Nor_S          2.2869      0.328      6.971      0.000       1.644       2.930\n",
       "Nor_V          0.1190      0.237      0.503      0.615      -0.345       0.583\n",
       "==============================================================================\n",
       "\"\"\""
      ]
     },
     "execution_count": 5,
     "metadata": {},
     "output_type": "execute_result"
    }
   ],
   "source": [
    "import statsmodels.api as sm\n",
    "import statsmodels.formula.api as smf\n",
    "\n",
    "model_med = sm.Logit.from_formula(\"쿨웜 ~ Nor_H + Nor_S + Nor_V\", data)\n",
    "result_med = model_med.fit()\n",
    "result_med.summary()"
   ]
  },
  {
   "cell_type": "markdown",
   "metadata": {},
   "source": [
    "### 다중 회귀 분석"
   ]
  },
  {
   "cell_type": "code",
   "execution_count": 29,
   "metadata": {},
   "outputs": [],
   "source": [
    "import statsmodels.api as sm\n",
    "import statsmodels.formula.api as smf"
   ]
  },
  {
   "cell_type": "code",
   "execution_count": 32,
   "metadata": {
    "scrolled": false
   },
   "outputs": [
    {
     "data": {
      "text/html": [
       "<table class=\"simpletable\">\n",
       "<caption>OLS Regression Results</caption>\n",
       "<tr>\n",
       "  <th>Dep. Variable:</th>           <td>쿨웜</td>        <th>  R-squared:         </th> <td>   0.201</td>\n",
       "</tr>\n",
       "<tr>\n",
       "  <th>Model:</th>                   <td>OLS</td>       <th>  Adj. R-squared:    </th> <td>   0.197</td>\n",
       "</tr>\n",
       "<tr>\n",
       "  <th>Method:</th>             <td>Least Squares</td>  <th>  F-statistic:       </th> <td>   59.80</td>\n",
       "</tr>\n",
       "<tr>\n",
       "  <th>Date:</th>             <td>Thu, 28 May 2020</td> <th>  Prob (F-statistic):</th> <td>1.67e-34</td>\n",
       "</tr>\n",
       "<tr>\n",
       "  <th>Time:</th>                 <td>14:20:12</td>     <th>  Log-Likelihood:    </th> <td> -441.35</td>\n",
       "</tr>\n",
       "<tr>\n",
       "  <th>No. Observations:</th>      <td>   719</td>      <th>  AIC:               </th> <td>   890.7</td>\n",
       "</tr>\n",
       "<tr>\n",
       "  <th>Df Residuals:</th>          <td>   715</td>      <th>  BIC:               </th> <td>   909.0</td>\n",
       "</tr>\n",
       "<tr>\n",
       "  <th>Df Model:</th>              <td>     3</td>      <th>                     </th>     <td> </td>   \n",
       "</tr>\n",
       "<tr>\n",
       "  <th>Covariance Type:</th>      <td>nonrobust</td>    <th>                     </th>     <td> </td>   \n",
       "</tr>\n",
       "</table>\n",
       "<table class=\"simpletable\">\n",
       "<tr>\n",
       "      <td></td>         <th>coef</th>     <th>std err</th>      <th>t</th>      <th>P>|t|</th>  <th>[0.025</th>    <th>0.975]</th>  \n",
       "</tr>\n",
       "<tr>\n",
       "  <th>Intercept</th> <td>    0.5259</td> <td>    0.052</td> <td>   10.047</td> <td> 0.000</td> <td>    0.423</td> <td>    0.629</td>\n",
       "</tr>\n",
       "<tr>\n",
       "  <th>Nor_H</th>     <td>   -0.5149</td> <td>    0.048</td> <td>  -10.768</td> <td> 0.000</td> <td>   -0.609</td> <td>   -0.421</td>\n",
       "</tr>\n",
       "<tr>\n",
       "  <th>Nor_S</th>     <td>    0.4672</td> <td>    0.063</td> <td>    7.458</td> <td> 0.000</td> <td>    0.344</td> <td>    0.590</td>\n",
       "</tr>\n",
       "<tr>\n",
       "  <th>Nor_V</th>     <td>    0.0185</td> <td>    0.047</td> <td>    0.395</td> <td> 0.693</td> <td>   -0.073</td> <td>    0.110</td>\n",
       "</tr>\n",
       "</table>\n",
       "<table class=\"simpletable\">\n",
       "<tr>\n",
       "  <th>Omnibus:</th>       <td>343.758</td> <th>  Durbin-Watson:     </th> <td>   0.392</td>\n",
       "</tr>\n",
       "<tr>\n",
       "  <th>Prob(Omnibus):</th> <td> 0.000</td>  <th>  Jarque-Bera (JB):  </th> <td>  39.456</td>\n",
       "</tr>\n",
       "<tr>\n",
       "  <th>Skew:</th>          <td> 0.011</td>  <th>  Prob(JB):          </th> <td>2.71e-09</td>\n",
       "</tr>\n",
       "<tr>\n",
       "  <th>Kurtosis:</th>      <td> 1.853</td>  <th>  Cond. No.          </th> <td>    6.38</td>\n",
       "</tr>\n",
       "</table><br/><br/>Warnings:<br/>[1] Standard Errors assume that the covariance matrix of the errors is correctly specified."
      ],
      "text/plain": [
       "<class 'statsmodels.iolib.summary.Summary'>\n",
       "\"\"\"\n",
       "                            OLS Regression Results                            \n",
       "==============================================================================\n",
       "Dep. Variable:                     쿨웜   R-squared:                       0.201\n",
       "Model:                            OLS   Adj. R-squared:                  0.197\n",
       "Method:                 Least Squares   F-statistic:                     59.80\n",
       "Date:                Thu, 28 May 2020   Prob (F-statistic):           1.67e-34\n",
       "Time:                        14:20:12   Log-Likelihood:                -441.35\n",
       "No. Observations:                 719   AIC:                             890.7\n",
       "Df Residuals:                     715   BIC:                             909.0\n",
       "Df Model:                           3                                         \n",
       "Covariance Type:            nonrobust                                         \n",
       "==============================================================================\n",
       "                 coef    std err          t      P>|t|      [0.025      0.975]\n",
       "------------------------------------------------------------------------------\n",
       "Intercept      0.5259      0.052     10.047      0.000       0.423       0.629\n",
       "Nor_H         -0.5149      0.048    -10.768      0.000      -0.609      -0.421\n",
       "Nor_S          0.4672      0.063      7.458      0.000       0.344       0.590\n",
       "Nor_V          0.0185      0.047      0.395      0.693      -0.073       0.110\n",
       "==============================================================================\n",
       "Omnibus:                      343.758   Durbin-Watson:                   0.392\n",
       "Prob(Omnibus):                  0.000   Jarque-Bera (JB):               39.456\n",
       "Skew:                           0.011   Prob(JB):                     2.71e-09\n",
       "Kurtosis:                       1.853   Cond. No.                         6.38\n",
       "==============================================================================\n",
       "\n",
       "Warnings:\n",
       "[1] Standard Errors assume that the covariance matrix of the errors is correctly specified.\n",
       "\"\"\""
      ]
     },
     "execution_count": 32,
     "metadata": {},
     "output_type": "execute_result"
    }
   ],
   "source": [
    "model = smf.ols(formula = '쿨웜 ~ Nor_H + Nor_S + Nor_V', data = data)\n",
    "                        # 종속변수 ~ 독립변수\n",
    "result = model.fit()\n",
    "result.summary()"
   ]
  },
  {
   "cell_type": "code",
   "execution_count": null,
   "metadata": {},
   "outputs": [],
   "source": [
    "# Prob(F-statistic)\n",
    "# 회귀모형에 대한 (통계적) 유의미성 검증 결과. 유의미함 (p < 0.05)\n",
    "# 주어진 표본 뿐 아니라 모집단에서도 의미있는 모형이라 할 수 있음\n",
    "\n",
    "# 회귀계수(Coefficients)\n",
    "# Z = 0.5259 + -0.5149*(Nor_H) + 0.4672*(Nor_S) + 0.0185*(Nor_V)\n",
    "\n",
    "# Adj. R-squared\n",
    "# 독립변수의 개수와 표본의 크기를 고려하여 R-squared를 보정\n",
    "\n",
    "# P(>|t|)는 모집단에서 계수가 0일 때, \n",
    "# 현재와 같은 크기의 표본에서 이러한 계수가 추정될 확률인 p값. \n",
    "# 이 확률이 매우 작다는 것은, \n",
    "# 모집단에서 현재의 표본과 비슷하게 0보다 큰 어떤 범위에 있을 가능성이 높다는 것을 의미한다. \n",
    "# 보통 5%와 같은 유의수준을 정하여 p값이 그보다 작으면(p < 0.05), \"통계적으로 유의미하다\"라고 한다."
   ]
  }
 ],
 "metadata": {
  "kernelspec": {
   "display_name": "Python 3",
   "language": "python",
   "name": "python3"
  },
  "language_info": {
   "codemirror_mode": {
    "name": "ipython",
    "version": 3
   },
   "file_extension": ".py",
   "mimetype": "text/x-python",
   "name": "python",
   "nbconvert_exporter": "python",
   "pygments_lexer": "ipython3",
   "version": "3.6.10"
  }
 },
 "nbformat": 4,
 "nbformat_minor": 4
}
