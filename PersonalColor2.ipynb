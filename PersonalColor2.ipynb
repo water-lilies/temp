{
 "cells": [
  {
   "cell_type": "code",
   "execution_count": 117,
   "metadata": {},
   "outputs": [],
   "source": [
    "import numpy as np\n",
    "import pandas as pd\n",
    "import matplotlib.pyplot as plt\n",
    "import random\n",
    "import cv2 as cv\n",
    "\n",
    "file_name = \"09\"\n",
    "img = cv.imread(\"imgs/\"+file_name+\".jpg\")\n",
    "random.seed(11)"
   ]
  },
  {
   "cell_type": "code",
   "execution_count": 118,
   "metadata": {},
   "outputs": [],
   "source": [
    "# 피부 검출1\n",
    "lower = np.array([0, 48, 80], dtype = \"uint8\")\n",
    "upper = np.array([20, 255, 255], dtype = \"uint8\")\n",
    "\n",
    "converted = cv.cvtColor(img, cv.COLOR_BGR2HSV)\n",
    "skinMask = cv.inRange(converted, lower, upper)\n",
    "\n",
    "kernel = cv.getStructuringElement(cv.MORPH_ELLIPSE, (11,11))\n",
    "skinMask = cv.erode(skinMask, kernel, iterations = 2)\n",
    "skinMask = cv.dilate(skinMask, kernel, iterations = 2)\n",
    "\n",
    "skinMask = cv.GaussianBlur(skinMask, (3,3), 0)\n",
    "skin = cv.bitwise_and(img, img, mask = skinMask)\n",
    "\n",
    "result = skin"
   ]
  },
  {
   "cell_type": "code",
   "execution_count": 119,
   "metadata": {},
   "outputs": [
    {
     "name": "stderr",
     "output_type": "stream",
     "text": [
      "C:\\Users\\user\\anaconda3\\envs\\GAN\\lib\\site-packages\\ipykernel_launcher.py:19: RuntimeWarning: invalid value encountered in ubyte_scalars\n"
     ]
    }
   ],
   "source": [
    "# 피부 검출2\n",
    "img = cv.cvtColor(result, cv.COLOR_BGR2HLS)\n",
    "skin_img = img\n",
    "temp_img = cv.cvtColor(img, cv.COLOR_HLS2RGB)\n",
    "\n",
    "h, w, c = img.shape\n",
    "\n",
    "\n",
    "for i in range(h) :\n",
    "    for j in range(w) :\n",
    "        H = img[i][j][0]\n",
    "        L = img[i][j][1]\n",
    "        S = img[i][j][2]\n",
    "        \n",
    "        R = temp_img[i][j][0]\n",
    "        G = temp_img[i][j][1]\n",
    "        B = temp_img[i][j][2]\n",
    "        \n",
    "        LS_ratio = L/S\n",
    "        skin_pixel = bool((S>=50) and (LS_ratio > 0.5) and (LS_ratio < 3.0) and ((H <= 25) or (H >= 165)))\n",
    "        temp_pixel = bool((R == G) and (G == B) and (R >= 220))\n",
    "                \n",
    "        if skin_pixel :\n",
    "            if temp_pixel :\n",
    "                skin_img[i][j][0] = 0\n",
    "                skin_img[i][j][1] = 0\n",
    "                skin_img[i][j][2] = 0\n",
    "            else :\n",
    "                pass\n",
    "        else :\n",
    "            skin_img[i][j][0] = 0\n",
    "            skin_img[i][j][1] = 0\n",
    "            skin_img[i][j][2] = 0\n",
    "        \n",
    "        \n",
    "        \n",
    "\n",
    "skin_img = cv.cvtColor(skin_img, cv.COLOR_HLS2BGR)            \n",
    "for i in range(h) :\n",
    "    for j in range(w) :\n",
    "        B = skin_img[i][j][0]\n",
    "        G = skin_img[i][j][1]\n",
    "        R = skin_img[i][j][2]\n",
    "\n",
    "        bg_pixel = bool(B==0 and G==0 and R==0)\n",
    "        \n",
    "        if bg_pixel :\n",
    "            skin_img[i][j][0] = 255\n",
    "            skin_img[i][j][1] = 255\n",
    "            skin_img[i][j][2] = 255\n",
    "        else :\n",
    "            pass"
   ]
  },
  {
   "cell_type": "code",
   "execution_count": 120,
   "metadata": {},
   "outputs": [
    {
     "data": {
      "text/plain": [
       "KMeans(n_clusters=20)"
      ]
     },
     "execution_count": 120,
     "metadata": {},
     "output_type": "execute_result"
    }
   ],
   "source": [
    "from sklearn.cluster import KMeans\n",
    "\n",
    "cvt_img = cv.cvtColor(skin_img, cv.COLOR_BGR2RGB)\n",
    "\n",
    "cvt_img = cvt_img.reshape((cvt_img.shape[0]*cvt_img.shape[1], 3))\n",
    "k = 20\n",
    "clt = KMeans(n_clusters=k)\n",
    "clt.fit(cvt_img)"
   ]
  },
  {
   "cell_type": "code",
   "execution_count": 121,
   "metadata": {},
   "outputs": [],
   "source": [
    "def color_ratio(clt) :\n",
    "    numLabels = np.arange(0, len(np.unique(clt.labels_))+1)\n",
    "    (hist, _) = np.histogram(clt.labels_, bins=numLabels)\n",
    "    hist = hist.astype(\"float\")\n",
    "    hist /= hist.sum()\n",
    "    return hist\n",
    "\n",
    "# k=5이므로 다섯개의 영역에 얼마만큼의 퍼센테이지가 차지되었는지 return된다.\n",
    "\n",
    "def plot_colors(hist, centroids):\n",
    "    bar = np.zeros((50, 300, 3), dtype = \"uint8\")\n",
    "    startX = 0\n",
    "\n",
    "    for (percent, color) in zip(hist, centroids):\n",
    "        endX = startX + (percent * 300)\n",
    "        cv.rectangle(bar, (int(startX), 0), (int(endX), 50),\n",
    "            color.astype(\"uint8\").tolist(), -1)\n",
    "        startX = endX\n",
    "    return bar"
   ]
  },
  {
   "cell_type": "code",
   "execution_count": 122,
   "metadata": {},
   "outputs": [],
   "source": [
    "hist = color_ratio(clt)\n",
    "temp = np.array(clt.cluster_centers_)\n",
    "\n",
    "# hist에서 높은 값 제거, cluster_centers_에서도 제거)\n",
    "del_index = hist.argmax()\n",
    "hist = np.delete(hist, del_index)\n",
    "temp = np.delete(temp, del_index, 0)\n",
    "\n",
    "# hist에서 제일 낮은 값 제거, cluster_centers_ 에서도 제거 \n",
    "del_index = np.argmin(hist)\n",
    "hist = np.delete(hist, del_index)\n",
    "temp = np.delete(temp, del_index, 0) \n",
    "\n",
    "del_index = np.argmin(hist)\n",
    "hist = np.delete(hist, del_index)\n",
    "temp = np.delete(temp, del_index, 0) # 3\n",
    "\n",
    "del_index = np.argmin(hist)\n",
    "hist = np.delete(hist, del_index)\n",
    "temp = np.delete(temp, del_index, 0) # 4\n",
    "\n",
    "del_index = np.argmin(hist)\n",
    "hist = np.delete(hist, del_index)\n",
    "temp = np.delete(temp, del_index, 0) # 5\n",
    "\n",
    "del_index = np.argmin(hist)\n",
    "hist = np.delete(hist, del_index)\n",
    "temp = np.delete(temp, del_index, 0)\n",
    "\n",
    "del_index = np.argmin(hist)\n",
    "hist = np.delete(hist, del_index)\n",
    "temp = np.delete(temp, del_index, 0)\n",
    "\n",
    "del_index = np.argmin(hist)\n",
    "hist = np.delete(hist, del_index)\n",
    "temp = np.delete(temp, del_index, 0)\n",
    "\n",
    "del_index = np.argmin(hist)\n",
    "hist = np.delete(hist, del_index)\n",
    "temp = np.delete(temp, del_index, 0)\n",
    "\n",
    "del_index = np.argmin(hist)\n",
    "hist = np.delete(hist, del_index)\n",
    "temp = np.delete(temp, del_index, 0)\n",
    "\n",
    "del_index = np.argmin(hist)\n",
    "hist = np.delete(hist, del_index)\n",
    "temp = np.delete(temp, del_index, 0)\n",
    "\n",
    "del_index = np.argmin(hist)\n",
    "hist = np.delete(hist, del_index)\n",
    "temp = np.delete(temp, del_index, 0)\n",
    "\n",
    "del_index = np.argmin(hist)\n",
    "hist = np.delete(hist, del_index)\n",
    "temp = np.delete(temp, del_index, 0)\n",
    "\n",
    "del_index = np.argmin(hist)\n",
    "hist = np.delete(hist, del_index)\n",
    "temp = np.delete(temp, del_index, 0)\n",
    "\n",
    "# 비율 재조정\n",
    "hist = hist / hist.sum()"
   ]
  },
  {
   "cell_type": "code",
   "execution_count": 123,
   "metadata": {},
   "outputs": [],
   "source": [
    "# 피부톤 RGB\n",
    "colors=plot_colors(hist, temp)\n",
    "colors_mean = colors.mean(axis=0)\n",
    "\n",
    "# 피부톤 RGB 평균값 구하기\n",
    "RGB_mean = colors_mean.mean(axis=0,dtype=int)\n",
    "RGB_list = RGB_mean.tolist()"
   ]
  },
  {
   "cell_type": "code",
   "execution_count": 124,
   "metadata": {},
   "outputs": [],
   "source": [
    "import colorsys\n",
    "\n",
    "# RGB -> HSV\n",
    "def revised_rgb_to_hsv(r, g, b):\n",
    "    (h, s, v) = colorsys.rgb_to_hsv(r/255, g/255, b/255)\n",
    "    h *= 360\n",
    "    s *= 100\n",
    "    v *= 100\n",
    "    return round(h), round(s), round(v)\n",
    "\n",
    "hsv = revised_rgb_to_hsv(RGB_list[0], RGB_list[1], RGB_list[2])"
   ]
  },
  {
   "cell_type": "code",
   "execution_count": 125,
   "metadata": {},
   "outputs": [],
   "source": [
    "data = pd.read_excel('data2.xlsx', index_col='순번')"
   ]
  },
  {
   "cell_type": "code",
   "execution_count": 126,
   "metadata": {},
   "outputs": [
    {
     "name": "stdout",
     "output_type": "stream",
     "text": [
      "0.7222222222222222\n"
     ]
    }
   ],
   "source": [
    "from sklearn.linear_model import LogisticRegression\n",
    "from sklearn.model_selection import train_test_split\n",
    "from sklearn.preprocessing import MinMaxScaler\n",
    "\n",
    "x_data = data[['H', 'S', 'V']]\n",
    "y_data = data['쿨웜']\n",
    "\n",
    "x_train, x_test, y_train, y_test = train_test_split(x_data, y_data, test_size=0.1, random_state=777)\n",
    "\n",
    "\n",
    "scaler = MinMaxScaler()\n",
    "\n",
    "x_train = scaler.fit_transform(x_train)\n",
    "x_test = scaler.transform(x_test)\n",
    "\n",
    "model = LogisticRegression()\n",
    "\n",
    "model.fit(x_train, y_train)\n",
    "\n",
    "\n",
    "print(model.score(x_test, y_test))"
   ]
  },
  {
   "cell_type": "code",
   "execution_count": 127,
   "metadata": {},
   "outputs": [],
   "source": [
    "# MinMaxScaler\n",
    "from sklearn.preprocessing import MinMaxScaler\n",
    "\n",
    "scaler = MinMaxScaler()\n",
    "\n",
    "\n",
    "x_train = scaler.fit_transform(x_train)\n",
    "x_test = scaler.transform(x_test)\n",
    "\n",
    "\n",
    "hsv = np.array(hsv)\n",
    "min_hsv = np.array([0, 0, 0])\n",
    "max_hsv = np.array([359, 100, 100])\n",
    "\n",
    "sample = np.array([hsv, min_hsv, max_hsv])\n",
    "\n",
    "#정규화\n",
    "sample = scaler.transform(sample)"
   ]
  },
  {
   "cell_type": "code",
   "execution_count": 128,
   "metadata": {
    "scrolled": true
   },
   "outputs": [
    {
     "name": "stdout",
     "output_type": "stream",
     "text": [
      "[0 1 0]\n",
      "[[7.81714510e-001 2.18285490e-001]\n",
      " [4.58080435e-001 5.41919565e-001]\n",
      " [1.00000000e+000 5.03674269e-259]]\n"
     ]
    }
   ],
   "source": [
    "predict = model.predict(sample)\n",
    "predict_proba = model.predict_proba(sample)\n",
    "print(predict)\n",
    "print(predict_proba)"
   ]
  },
  {
   "cell_type": "code",
   "execution_count": 129,
   "metadata": {
    "scrolled": true
   },
   "outputs": [
    {
     "name": "stdout",
     "output_type": "stream",
     "text": [
      "쿨톤일 확률이 78.17% 입니다.\n"
     ]
    }
   ],
   "source": [
    "if predict[0]==0:\n",
    "    print(\"쿨톤일 확률이 {:.2f}% 입니다.\".format(predict_proba[0][0]*100))\n",
    "else:\n",
    "    print(\"웜톤일 확률이 {:.2f}% 입니다.\".format(predict_proba[0][1]*100))"
   ]
  },
  {
   "cell_type": "code",
   "execution_count": null,
   "metadata": {},
   "outputs": [],
   "source": [
    "# log씌워보기 "
   ]
  },
  {
   "cell_type": "code",
   "execution_count": 130,
   "metadata": {},
   "outputs": [
    {
     "data": {
      "text/plain": [
       "(array([1., 0., 0., 0., 1., 0., 0., 0., 0., 1.]),\n",
       " array([0.15      , 0.21076602, 0.27153203, 0.33229805, 0.39306407,\n",
       "        0.45383008, 0.5145961 , 0.57536212, 0.63612813, 0.69689415,\n",
       "        0.75766017]),\n",
       " <a list of 10 Patch objects>)"
      ]
     },
     "execution_count": 130,
     "metadata": {},
     "output_type": "execute_result"
    },
    {
     "data": {
      "image/png": "[encoded data removed]",
      "text/plain": [
       "<Figure size 432x288 with 1 Axes>"
      ]
     },
     "metadata": {
      "needs_background": "light"
     },
     "output_type": "display_data"
    }
   ],
   "source": [
    "plt.hist(x_train[0])"
   ]
  },
  {
   "cell_type": "code",
   "execution_count": null,
   "metadata": {},
   "outputs": [],
   "source": []
  }
 ],
 "metadata": {
  "kernelspec": {
   "display_name": "Python 3",
   "language": "python",
   "name": "python3"
  },
  "language_info": {
   "codemirror_mode": {
    "name": "ipython",
    "version": 3
   },
   "file_extension": ".py",
   "mimetype": "text/x-python",
   "name": "python",
   "nbconvert_exporter": "python",
   "pygments_lexer": "ipython3",
   "version": "3.6.10"
  }
 },
 "nbformat": 4,
 "nbformat_minor": 4
}
