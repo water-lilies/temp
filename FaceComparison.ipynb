{
 "cells": [
  {
   "cell_type": "code",
   "execution_count": 2,
   "metadata": {},
   "outputs": [],
   "source": [
    "# python version36에서 해야함\n",
    "\n",
    "from imutils import face_utils\n",
    "import numpy as np\n",
    "import imutils\n",
    "import dlib\n",
    "import cv2\n",
    "import matplotlib.pyplot as plt\n",
    "import face_recognition\n",
    "import os\n",
    "from imutils import paths"
   ]
  },
  {
   "cell_type": "code",
   "execution_count": null,
   "metadata": {},
   "outputs": [],
   "source": [
    "def imshow(tit, image) :\n",
    "    plt.title(tit)    \n",
    "    if len(image.shape) == 3 :\n",
    "        plt.imshow(cv2.cvtColor(image, cv2.COLOR_BGR2RGB))\n",
    "    else :\n",
    "        plt.imshow(image, cmap=\"gray\")\n",
    "    plt.show()"
   ]
  },
  {
   "cell_type": "code",
   "execution_count": null,
   "metadata": {},
   "outputs": [],
   "source": [
    "files = os.listdir(\"known\") #아는 얼굴을 학습\n",
    "    \n",
    "known_face_encodings = []  #다음 for문을 통해 128개의 실수값이 들어가게된다.\n",
    "known_face_names = []\n",
    "\n",
    "for filename in files:\n",
    "            name, ext = os.path.splitext(filename) # 검출해서 어떤 이미지와 유사한지 이름 알려주기 위해\n",
    "            if ext == '.jpg':\n",
    "                known_face_names.append(name)\n",
    "                pathname = os.path.join(\"known\", filename)\n",
    "                img = face_recognition.load_image_file(pathname) #이거때문에 한사람의 얼굴만 있다고 가정해야함\n",
    "                face_encoding = face_recognition.face_encodings(img)[0] #발견된 얼굴 중 0번째\n",
    "                known_face_encodings.append(face_encoding)"
   ]
  },
  {
   "cell_type": "code",
   "execution_count": null,
   "metadata": {},
   "outputs": [],
   "source": [
    "print(known_face_names) # 파일들이 갖는 이름들 출력\n",
    "print(known_face_encodings[1]) # 0번 파일의 128차원 값"
   ]
  },
  {
   "cell_type": "code",
   "execution_count": null,
   "metadata": {},
   "outputs": [],
   "source": [
    "# 테스트 이미지\n",
    "test = face_recognition.load_image_file(\"facetest.jpg\")\n",
    "\n",
    "face_locations = face_recognition.face_locations(test)\n",
    "face_encodings = face_recognition.face_encodings(test, face_locations)\n",
    "\n",
    "face_names = []\n",
    "pre_name = \"Unknown\"\n",
    "\n",
    "for face_encoding in face_encodings: # face마다 거리 측정\n",
    "     distances = face_recognition.face_distance(known_face_encodings, face_encoding)\n",
    "     print(distances) # 거리 값 확인\n",
    "     min_value = min(distances)  \n",
    "\n",
    "     #pre_name = \"Unknown\"\n",
    "     if min_value < 0.6: # 거리에 대한 최대 값 지정(0.6보다 크면 다른 사람 일 확률이 크다는 의미)\n",
    "                    index = np.argmin(distances)\n",
    "                    name = known_face_names[index] # 검출하면 이름 저장\n",
    "print(name)"
   ]
  },
  {
   "cell_type": "code",
   "execution_count": null,
   "metadata": {},
   "outputs": [],
   "source": [
    "imagePaths = list(paths.list_images(\"known\")) # 폴더 경로\n",
    " \n",
    "knownEncodings = []\n",
    "knownNames = []\n",
    "\n",
    "for (i, imagePath) in enumerate(imagePaths): # 이미지 하나씩 가져와서 얼굴 검출\n",
    "    name = imagePath.split(os.path.sep)[-2] # 가져오는 데이터 중에 끝에서 두번째 것(폴더명)\n",
    "    print(f\"{name}   -   {imagePath}\") # 이미지파일 이름과 경로 확인용\n",
    "    image = cv2.imread(imagePath) # 이미지 저장해서\n",
    "    boxes = face_recognition.face_locations(image) # 얼굴 검출 좌표 값\n",
    "    encodings = face_recognition.face_encodings(image, boxes) # 얼굴 검출 정보 값\n",
    "\n",
    "    for encoding in encodings: # 이미지 중 얼굴이 검출되었다면, for loop를 수행\n",
    "        knownEncodings.append(encoding)\n",
    "        knownNames.append(name)"
   ]
  },
  {
   "cell_type": "code",
   "execution_count": null,
   "metadata": {},
   "outputs": [],
   "source": [
    "# 파일로 저장 & 불러오기\n",
    "\n",
    "import pickle\n",
    "# 일반 텍스트 파일은 파일 입출력을 이용해서 불러올 수 있지만\n",
    "# 리스트, 클래스 등의 자료형 데이터를 저장하거나 불러올 수 없기 때문에\n",
    "# pickle 모듈을 사용해서 불러와야 한다.\n",
    "\n",
    "data = {\"encodings\": knownEncodings, \"names\": knownNames} #딕셔너리로 넣고 딕셔너리로 나중에 읽음\n",
    "f = open(\"known.bin\", \"wb\") # bin 파일을 연다.(name data와 인코딩한 데이터가 담긴 정보) \n",
    "                        #wb: write binary\n",
    "f.write(pickle.dumps(data)) # 입력\n",
    "f.close()"
   ]
  },
  {
   "cell_type": "code",
   "execution_count": null,
   "metadata": {},
   "outputs": [],
   "source": [
    "# 위 코드 확인용\n",
    "\n",
    "print(data[\"name\"]) # 얼굴 검출 한 이미지들의 폴더명(like 클래스명)\n",
    "\n",
    "print(data[\"name\"][0]) # 이름의 0번 인덱스 값 가져와서 확인\n",
    "print(data[\"encodings\"][0]) # 0번 이미지의 얼굴 정보에 대한 값 확인"
   ]
  },
  {
   "cell_type": "code",
   "execution_count": null,
   "metadata": {},
   "outputs": [],
   "source": [
    "data = pickle.loads(open(\"known.bin\", \"rb\").read())\n",
    " \n",
    "image = cv2.imread(\"songtest.jpg\") # 테스트 할 이미지\n",
    "\n",
    "boxes = face_recognition.face_locations(image) # 테스트 할 이미지의 얼굴 영역 검출\n",
    "encodings = face_recognition.face_encodings(image, boxes) # 얼굴 영역에 대한 정보 저장\n",
    " \n",
    "names = []\n",
    "for encoding in encodings: # 폴더 속 이미지들을 순회하며 유사 얼굴 탐색\n",
    "    matches = face_recognition.compare_faces(data[\"encodings\"], encoding)\n",
    "    name = \"Unknown\" # 매칭되는 얼굴이 없는 경우\n",
    "    \n",
    "    if True in matches:\n",
    "        matchedIdxs = [i for (i, b) in enumerate(matches) if b]\n",
    "        counts = {} \n",
    "        \n",
    "        for i in matchedIdxs: # True 판단 이미지(유사하다고 추정된 이미지)만 탐색하면서\n",
    "            name = data[\"names\"][i] # 파일명 가져오고\n",
    "            counts[name] = counts.get(name, 0) + 1  # name을 count\n",
    "        name = max(counts, key=counts.get) # 검출 된 이름의 빈도수에서 가장 큰 값을 결과로\n",
    "    names.append(name) # 결과 name 저장\n",
    "    {'song':2, 'tae':3,''}"
   ]
  },
  {
   "cell_type": "code",
   "execution_count": null,
   "metadata": {},
   "outputs": [],
   "source": [
    "# 찾은 수 만큼 사각형 그리고 이름 적기\n",
    "for ((top, right, bottom, left), name) in zip(boxes, names):\n",
    "    cv2.rectangle(image, (left, top), (right, bottom), (0, 255, 0), 2)\n",
    "    y = top - 15 if top - 15 > 15 else top + 15\n",
    "    cv2.putText(image, name, (left, y), cv2.FONT_HERSHEY_SIMPLEX,  0.75, (0, 255, 0), 2)\n",
    " \n",
    "imshow(\"Image\", image)"
   ]
  },
  {
   "cell_type": "code",
   "execution_count": null,
   "metadata": {},
   "outputs": [],
   "source": []
  },
  {
   "cell_type": "code",
   "execution_count": null,
   "metadata": {},
   "outputs": [],
   "source": []
  },
  {
   "cell_type": "code",
   "execution_count": null,
   "metadata": {},
   "outputs": [],
   "source": []
  }
 ],
 "metadata": {
  "kernelspec": {
   "display_name": "Python 3",
   "language": "python",
   "name": "python3"
  },
  "language_info": {
   "codemirror_mode": {
    "name": "ipython",
    "version": 3
   },
   "file_extension": ".py",
   "mimetype": "text/x-python",
   "name": "python",
   "nbconvert_exporter": "python",
   "pygments_lexer": "ipython3",
   "version": "3.6.10"
  }
 },
 "nbformat": 4,
 "nbformat_minor": 4
}
